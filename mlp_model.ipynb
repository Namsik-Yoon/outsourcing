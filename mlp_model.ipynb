{
 "cells": [
  {
   "cell_type": "code",
   "execution_count": 20,
   "metadata": {},
   "outputs": [],
   "source": [
    "import pandas as pd\n",
    "import numpy as np\n",
    "import matplotlib.pyplot as plt"
   ]
  },
  {
   "cell_type": "markdown",
   "metadata": {},
   "source": [
    "# Data Load"
   ]
  },
  {
   "cell_type": "code",
   "execution_count": 8,
   "metadata": {},
   "outputs": [],
   "source": [
    "use_cols = ['time','Ambient','EGSPD','VSPD_ajou','TQI_ACOR','TQI','Coolant','VSPD2','Fan_curr','C_Rad_in',\n",
    "           'C_Head','C_H\\C_out','Target_angle','Current_angle']\n",
    "target_cols = ['C_Head']"
   ]
  },
  {
   "cell_type": "code",
   "execution_count": 9,
   "metadata": {},
   "outputs": [],
   "source": [
    "args = {'sep':'\\t','skiprows':[1],'usecols':use_cols}\n",
    "\n",
    "df_0421 = pd.read_csv('data/0421mode_변환/ftp_p1p2_Converted.txt',**args).append\\\n",
    "([pd.read_csv('data/0421mode_변환/ftp_p3_Converted.txt',**args),\n",
    "pd.read_csv('data/0421mode_변환/hwy_Converted.txt',**args) ],ignore_index=True).dropna().reset_index(drop=True)\n",
    "\n",
    "df_0422 = pd.read_csv('data/0422mode_변환/ftp75_p1p2_Etas.txt',**args).append\\\n",
    "([pd.read_csv('data/0422mode_변환/ftp75_p3_Etas.txt',**args),\n",
    "pd.read_csv('data/0422mode_변환/hwy_Etas.txt',**args) ],ignore_index=True).dropna().reset_index(drop=True)\n",
    "\n",
    "df_0423 = pd.read_csv('data/0423mode_변환/ftp75_p1p2_Etas.txt',**args).append\\\n",
    "([pd.read_csv('data/0423mode_변환/ftp75_p3_Etas.txt',**args),\n",
    "pd.read_csv('data/0423mode_변환/hwy_Etas.txt',**args) ],ignore_index=True).dropna().reset_index(drop=True)\n",
    "\n",
    "df_0424 = pd.read_csv('data/0424mode_변환/ftp75_p1p2_Etas.txt',**args).append\\\n",
    "([pd.read_csv('data/0424mode_변환/ftp75_p3_Etas.txt',**args),\n",
    "pd.read_csv('data/0424mode_변환/hwy_Etas.txt',**args) ],ignore_index=True).dropna().reset_index(drop=True)\n",
    "\n",
    "df_0620 = pd.read_csv('data/realway_변환/morning_0620.txt',**args).dropna().reset_index(drop=True)\n",
    "df_0621 = pd.read_csv('data/realway_변환/morning_0621.txt',**args).dropna().reset_index(drop=True)"
   ]
  },
  {
   "cell_type": "code",
   "execution_count": 10,
   "metadata": {},
   "outputs": [],
   "source": [
    "def make_data(df,window_size,pred_t,time_step=True):\n",
    "    raw_X = df.drop(target_cols,axis=1).values\n",
    "    raw_Y = df[target_cols].values\n",
    "    temp = window_size+pred_t\n",
    "    X = []\n",
    "    for i in range(raw_X.shape[0]-window_size):\n",
    "        subset = raw_X[i:(i+window_size)]\n",
    "        X.append(subset.reshape(-1))\n",
    "\n",
    "    X = np.array(X)\n",
    "    Y = raw_Y[temp-1:]\n",
    "    return X,Y"
   ]
  },
  {
   "cell_type": "code",
   "execution_count": 11,
   "metadata": {},
   "outputs": [],
   "source": [
    "window_size = 10\n",
    "pred_t = 1\n",
    "\n",
    "X,Y = make_data(df_0421,window_size,pred_t)\n",
    "for df in [df_0422,df_0423,df_0424,df_0620,df_0621]:\n",
    "    X_,Y_ = make_data(df_0421,window_size,pred_t)\n",
    "    X=np.append(X,X_,axis=0)\n",
    "    Y=np.append(Y,Y_,axis=0)"
   ]
  },
  {
   "cell_type": "code",
   "execution_count": 12,
   "metadata": {},
   "outputs": [
    {
     "data": {
      "text/plain": [
       "((2103912, 130), (2103912, 1))"
      ]
     },
     "execution_count": 12,
     "metadata": {},
     "output_type": "execute_result"
    }
   ],
   "source": [
    "X.shape,Y.shape"
   ]
  },
  {
   "cell_type": "markdown",
   "metadata": {},
   "source": [
    "# Build Model"
   ]
  },
  {
   "cell_type": "code",
   "execution_count": 13,
   "metadata": {},
   "outputs": [],
   "source": [
    "import keras\n",
    "from keras.models import Sequential\n",
    "from keras.layers import Dense,Dropout,LSTM\n",
    "from keras.callbacks import ModelCheckpoint, EarlyStopping"
   ]
  },
  {
   "cell_type": "code",
   "execution_count": 14,
   "metadata": {},
   "outputs": [],
   "source": [
    "mlp_model = Sequential()\n",
    "mlp_model.add(Dense(128, input_dim=13*window_size, activation='relu'))\n",
    "mlp_model.add(Dropout(0.3))\n",
    "mlp_model.add(Dense(128,activation='relu'))\n",
    "mlp_model.add(Dropout(0.3))\n",
    "mlp_model.add(Dense(128,activation='relu'))\n",
    "mlp_model.add(Dropout(0.3))\n",
    "mlp_model.add(Dense(1))\n",
    "mlp_model.compile(loss=\"mse\", optimizer=\"adam\")"
   ]
  },
  {
   "cell_type": "code",
   "execution_count": 15,
   "metadata": {},
   "outputs": [
    {
     "name": "stdout",
     "output_type": "stream",
     "text": [
      "Model: \"sequential\"\n",
      "_________________________________________________________________\n",
      "Layer (type)                 Output Shape              Param #   \n",
      "=================================================================\n",
      "dense (Dense)                (None, 128)               16768     \n",
      "_________________________________________________________________\n",
      "dropout (Dropout)            (None, 128)               0         \n",
      "_________________________________________________________________\n",
      "dense_1 (Dense)              (None, 128)               16512     \n",
      "_________________________________________________________________\n",
      "dropout_1 (Dropout)          (None, 128)               0         \n",
      "_________________________________________________________________\n",
      "dense_2 (Dense)              (None, 128)               16512     \n",
      "_________________________________________________________________\n",
      "dropout_2 (Dropout)          (None, 128)               0         \n",
      "_________________________________________________________________\n",
      "dense_3 (Dense)              (None, 1)                 129       \n",
      "=================================================================\n",
      "Total params: 49,921\n",
      "Trainable params: 49,921\n",
      "Non-trainable params: 0\n",
      "_________________________________________________________________\n"
     ]
    }
   ],
   "source": [
    "mlp_model.summary()"
   ]
  },
  {
   "cell_type": "code",
   "execution_count": 16,
   "metadata": {},
   "outputs": [
    {
     "name": "stdout",
     "output_type": "stream",
     "text": [
      "Epoch 1/100\n",
      "9863/9863 [==============================] - 34s 3ms/step - loss: 513.0851 - val_loss: 1889.1411\n",
      "Epoch 2/100\n",
      "9863/9863 [==============================] - 32s 3ms/step - loss: 124.2036 - val_loss: 1331.1345\n",
      "Epoch 3/100\n",
      "9863/9863 [==============================] - 36s 4ms/step - loss: 102.3352 - val_loss: 1069.8505\n",
      "Epoch 4/100\n",
      "9863/9863 [==============================] - 35s 4ms/step - loss: 94.4943 - val_loss: 1389.9117\n",
      "Epoch 5/100\n",
      "9863/9863 [==============================] - 35s 4ms/step - loss: 83.7796 - val_loss: 982.5551\n",
      "Epoch 6/100\n",
      "9863/9863 [==============================] - 38s 4ms/step - loss: 76.7037 - val_loss: 765.7286\n",
      "Epoch 7/100\n",
      "9863/9863 [==============================] - 32s 3ms/step - loss: 67.1123 - val_loss: 292.6745\n",
      "Epoch 8/100\n",
      "9863/9863 [==============================] - 31s 3ms/step - loss: 56.1495 - val_loss: 14.2450\n",
      "Epoch 9/100\n",
      "9863/9863 [==============================] - 35s 4ms/step - loss: 50.0479 - val_loss: 28.3478\n",
      "Epoch 10/100\n",
      "9863/9863 [==============================] - 36s 4ms/step - loss: 48.3383 - val_loss: 22.9952\n",
      "Epoch 11/100\n",
      "9863/9863 [==============================] - 40s 4ms/step - loss: 46.9555 - val_loss: 25.7171\n",
      "Epoch 12/100\n",
      "9863/9863 [==============================] - 39s 4ms/step - loss: 47.2145 - val_loss: 19.5258\n",
      "Epoch 13/100\n",
      "9863/9863 [==============================] - 38s 4ms/step - loss: 43.8094 - val_loss: 16.0429\n"
     ]
    },
    {
     "data": {
      "text/plain": [
       "<tensorflow.python.keras.callbacks.History at 0x7ff3005ffbd0>"
      ]
     },
     "execution_count": 16,
     "metadata": {},
     "output_type": "execute_result"
    }
   ],
   "source": [
    "early_stopping = EarlyStopping(patience=5)\n",
    "mlp_model.fit(X,Y,epochs=100,batch_size=64,validation_split=0.7,shuffle=True,callbacks=[early_stopping])"
   ]
  },
  {
   "cell_type": "markdown",
   "metadata": {},
   "source": [
    "# df_0423 데이터 예측해보기"
   ]
  },
  {
   "cell_type": "code",
   "execution_count": 17,
   "metadata": {},
   "outputs": [],
   "source": [
    "X,Y = make_data(df_0421,window_size,pred_t)"
   ]
  },
  {
   "cell_type": "code",
   "execution_count": 22,
   "metadata": {},
   "outputs": [],
   "source": [
    "pred_Y = mlp_model.predict(X)"
   ]
  },
  {
   "cell_type": "code",
   "execution_count": 28,
   "metadata": {},
   "outputs": [
    {
     "name": "stderr",
     "output_type": "stream",
     "text": [
      "/home/tactics/anaconda3/lib/python3.7/site-packages/IPython/core/pylabtools.py:132: UserWarning: Creating legend with loc=\"best\" can be slow with large amounts of data.\n",
      "  fig.canvas.print_figure(bytes_io, **kw)\n"
     ]
    },
    {
     "data": {
      "image/png": "[encoded data removed]",
      "text/plain": [
       "<Figure size 1080x576 with 1 Axes>"
      ]
     },
     "metadata": {
      "needs_background": "light"
     },
     "output_type": "display_data"
    }
   ],
   "source": [
    "plt.figure(figsize=(15,8))\n",
    "plt.plot(Y,label='Y')\n",
    "plt.plot(pred_Y,label='pred_Y')\n",
    "plt.legend()\n",
    "plt.show()"
   ]
  }
 ],
 "metadata": {
  "kernelspec": {
   "display_name": "Python 3",
   "language": "python",
   "name": "python3"
  },
  "language_info": {
   "codemirror_mode": {
    "name": "ipython",
    "version": 3
   },
   "file_extension": ".py",
   "mimetype": "text/x-python",
   "name": "python",
   "nbconvert_exporter": "python",
   "pygments_lexer": "ipython3",
   "version": "3.7.6"
  }
 },
 "nbformat": 4,
 "nbformat_minor": 4
}
