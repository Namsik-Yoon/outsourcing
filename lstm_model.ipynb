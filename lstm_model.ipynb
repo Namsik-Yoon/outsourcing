{
 "cells": [
  {
   "cell_type": "code",
   "execution_count": 1,
   "metadata": {},
   "outputs": [],
   "source": [
    "import pandas as pd\n",
    "import numpy as np\n",
    "import matplotlib.pyplot as plt"
   ]
  },
  {
   "cell_type": "markdown",
   "metadata": {},
   "source": [
    "# Data Load"
   ]
  },
  {
   "cell_type": "code",
   "execution_count": 2,
   "metadata": {},
   "outputs": [],
   "source": [
    "use_cols = ['time','Ambient','EGSPD','VSPD_ajou','TQI_ACOR','TQI','Coolant','VSPD2','Fan_curr','C_Rad_in',\n",
    "           'C_Head','C_H\\C_out','Target_angle','Current_angle']\n",
    "target_cols = ['C_Head']"
   ]
  },
  {
   "cell_type": "code",
   "execution_count": 3,
   "metadata": {},
   "outputs": [],
   "source": [
    "args = {'sep':'\\t','skiprows':[1],'usecols':use_cols}\n",
    "\n",
    "df_0421 = pd.read_csv('data/0421mode_변환/ftp_p1p2_Converted.txt',**args).append\\\n",
    "([pd.read_csv('data/0421mode_변환/ftp_p3_Converted.txt',**args),\n",
    "pd.read_csv('data/0421mode_변환/hwy_Converted.txt',**args) ],ignore_index=True).dropna().reset_index(drop=True)\n",
    "\n",
    "df_0422 = pd.read_csv('data/0422mode_변환/ftp75_p1p2_Etas.txt',**args).append\\\n",
    "([pd.read_csv('data/0422mode_변환/ftp75_p3_Etas.txt',**args),\n",
    "pd.read_csv('data/0422mode_변환/hwy_Etas.txt',**args) ],ignore_index=True).dropna().reset_index(drop=True)\n",
    "\n",
    "df_0423 = pd.read_csv('data/0423mode_변환/ftp75_p1p2_Etas.txt',**args).append\\\n",
    "([pd.read_csv('data/0423mode_변환/ftp75_p3_Etas.txt',**args),\n",
    "pd.read_csv('data/0423mode_변환/hwy_Etas.txt',**args) ],ignore_index=True).dropna().reset_index(drop=True)\n",
    "\n",
    "df_0424 = pd.read_csv('data/0424mode_변환/ftp75_p1p2_Etas.txt',**args).append\\\n",
    "([pd.read_csv('data/0424mode_변환/ftp75_p3_Etas.txt',**args),\n",
    "pd.read_csv('data/0424mode_변환/hwy_Etas.txt',**args) ],ignore_index=True).dropna().reset_index(drop=True)\n",
    "\n",
    "df_0620 = pd.read_csv('data/realway_변환/morning_0620.txt',**args).dropna().reset_index(drop=True)\n",
    "df_0621 = pd.read_csv('data/realway_변환/morning_0621.txt',**args).dropna().reset_index(drop=True)"
   ]
  },
  {
   "cell_type": "code",
   "execution_count": 9,
   "metadata": {},
   "outputs": [],
   "source": [
    "def make_data(df,window_size,pred_t,time_step=True):\n",
    "    raw_X = df.drop(target_cols,axis=1).values\n",
    "    raw_Y = df[target_cols].values\n",
    "    temp = window_size+pred_t\n",
    "    X = []\n",
    "    for i in range(raw_X.shape[0]-window_size):\n",
    "        subset = raw_X[i:(i+window_size)]\n",
    "        X.append(subset.reshape(-1))\n",
    "\n",
    "    X = np.array(X)\n",
    "    Y = raw_Y[temp-1:]\n",
    "    return X,Y"
   ]
  },
  {
   "cell_type": "code",
   "execution_count": 10,
   "metadata": {},
   "outputs": [],
   "source": [
    "window_size = 10\n",
    "pred_t = 1\n",
    "\n",
    "X,Y = make_data(df_0421,window_size,pred_t)\n",
    "for df in [df_0422,df_0423,df_0424,df_0620,df_0621]:\n",
    "    X_,Y_ = make_data(df_0421,window_size,pred_t)\n",
    "    X=np.append(X,X_,axis=0)\n",
    "    Y=np.append(Y,Y_,axis=0)"
   ]
  },
  {
   "cell_type": "code",
   "execution_count": 11,
   "metadata": {},
   "outputs": [],
   "source": [
    "X = np.reshape(X,(-1,window_size,13))"
   ]
  },
  {
   "cell_type": "code",
   "execution_count": 12,
   "metadata": {},
   "outputs": [
    {
     "data": {
      "text/plain": [
       "((2103912, 10, 13), (2103912, 1))"
      ]
     },
     "execution_count": 12,
     "metadata": {},
     "output_type": "execute_result"
    }
   ],
   "source": [
    "X.shape,Y.shape"
   ]
  },
  {
   "cell_type": "markdown",
   "metadata": {},
   "source": [
    "# Build Model"
   ]
  },
  {
   "cell_type": "code",
   "execution_count": 14,
   "metadata": {},
   "outputs": [],
   "source": [
    "import keras\n",
    "from keras.models import Sequential\n",
    "from keras.layers import Dense,Dropout,LSTM\n",
    "from keras.callbacks import ModelCheckpoint, EarlyStopping"
   ]
  },
  {
   "cell_type": "code",
   "execution_count": 15,
   "metadata": {},
   "outputs": [],
   "source": [
    "lstm_model = Sequential()\n",
    "lstm_model.add(LSTM(128, input_shape = (window_size, 13)))\n",
    "lstm_model.add(Dense(1))\n",
    "lstm_model.compile(loss=\"mse\", optimizer=\"adam\")"
   ]
  },
  {
   "cell_type": "code",
   "execution_count": 16,
   "metadata": {},
   "outputs": [
    {
     "name": "stdout",
     "output_type": "stream",
     "text": [
      "Model: \"sequential\"\n",
      "_________________________________________________________________\n",
      "Layer (type)                 Output Shape              Param #   \n",
      "=================================================================\n",
      "lstm (LSTM)                  (None, 128)               72704     \n",
      "_________________________________________________________________\n",
      "dense (Dense)                (None, 1)                 129       \n",
      "=================================================================\n",
      "Total params: 72,833\n",
      "Trainable params: 72,833\n",
      "Non-trainable params: 0\n",
      "_________________________________________________________________\n"
     ]
    }
   ],
   "source": [
    "lstm_model.summary()"
   ]
  },
  {
   "cell_type": "code",
   "execution_count": null,
   "metadata": {},
   "outputs": [
    {
     "name": "stdout",
     "output_type": "stream",
     "text": [
      "Epoch 1/100\n",
      "9863/9863 [==============================] - 87s 9ms/step - loss: 368.5901 - val_loss: 9.0301\n",
      "Epoch 2/100\n",
      "9863/9863 [==============================] - 152s 15ms/step - loss: 9.4233 - val_loss: 7.0072\n",
      "Epoch 3/100\n",
      "9863/9863 [==============================] - 137s 14ms/step - loss: 7.2732 - val_loss: 6.9949\n",
      "Epoch 4/100\n",
      "9863/9863 [==============================] - 166s 17ms/step - loss: 5.6067 - val_loss: 3.6239\n",
      "Epoch 5/100\n",
      "9863/9863 [==============================] - 184s 19ms/step - loss: 4.1331 - val_loss: 3.3000\n",
      "Epoch 6/100\n",
      "9863/9863 [==============================] - 118s 12ms/step - loss: 3.3023 - val_loss: 2.8000\n",
      "Epoch 7/100\n",
      "9863/9863 [==============================] - 80s 8ms/step - loss: 2.7580 - val_loss: 1.5116\n",
      "Epoch 8/100\n",
      "9863/9863 [==============================] - 86s 9ms/step - loss: 2.3773 - val_loss: 1.5902\n",
      "Epoch 9/100\n",
      "9863/9863 [==============================] - 81s 8ms/step - loss: 2.1552 - val_loss: 1.6927\n",
      "Epoch 10/100\n",
      "9863/9863 [==============================] - 81s 8ms/step - loss: 2.0538 - val_loss: 1.7803\n",
      "Epoch 11/100\n",
      "9863/9863 [==============================] - 102s 10ms/step - loss: 2.2511 - val_loss: 1.4233\n",
      "Epoch 12/100\n",
      "9863/9863 [==============================] - 81s 8ms/step - loss: 3.9660 - val_loss: 3.5647\n",
      "Epoch 13/100\n",
      "9863/9863 [==============================] - 81s 8ms/step - loss: 4.5650 - val_loss: 3.9008\n",
      "Epoch 14/100\n",
      "9863/9863 [==============================] - 84s 8ms/step - loss: 4.1701 - val_loss: 3.0890\n",
      "Epoch 15/100\n",
      "9863/9863 [==============================] - 89s 9ms/step - loss: 4.7338 - val_loss: 4.9887\n",
      "Epoch 16/100\n",
      "9862/9863 [============================>.] - ETA: 0s - loss: 4.3401"
     ]
    }
   ],
   "source": [
    "early_stopping = EarlyStopping(patience=5)\n",
    "lstm_model.fit(X,Y,epochs=100,batch_size=64,validation_split=0.7,shuffle=True,callbacks=[early_stopping])"
   ]
  },
  {
   "cell_type": "markdown",
   "metadata": {},
   "source": [
    "# df_0423 데이터 예측해보기"
   ]
  },
  {
   "cell_type": "code",
   "execution_count": null,
   "metadata": {},
   "outputs": [],
   "source": [
    "X,Y = make_data(df_0421,window_size,pred_t)"
   ]
  },
  {
   "cell_type": "code",
   "execution_count": null,
   "metadata": {},
   "outputs": [],
   "source": [
    "pred_Y = mlp_model.predict(X)"
   ]
  },
  {
   "cell_type": "code",
   "execution_count": null,
   "metadata": {},
   "outputs": [],
   "source": [
    "plt.figure(figsize=(15,8))\n",
    "plt.plot(Y,label='Y')\n",
    "plt.legend()\n",
    "plt.show()"
   ]
  },
  {
   "cell_type": "code",
   "execution_count": null,
   "metadata": {},
   "outputs": [],
   "source": [
    "plt.figure(figsize=(15,8))\n",
    "plt.plot(Y,label='Y')\n",
    "plt.plot(pred_Y,label='pred_Y')\n",
    "plt.legend()\n",
    "plt.show()"
   ]
  },
  {
   "cell_type": "code",
   "execution_count": null,
   "metadata": {},
   "outputs": [],
   "source": []
  }
 ],
 "metadata": {
  "kernelspec": {
   "display_name": "Python 3",
   "language": "python",
   "name": "python3"
  },
  "language_info": {
   "codemirror_mode": {
    "name": "ipython",
    "version": 3
   },
   "file_extension": ".py",
   "mimetype": "text/x-python",
   "name": "python",
   "nbconvert_exporter": "python",
   "pygments_lexer": "ipython3",
   "version": "3.7.6"
  }
 },
 "nbformat": 4,
 "nbformat_minor": 4
}
