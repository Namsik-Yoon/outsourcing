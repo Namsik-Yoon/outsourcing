{
 "cells": [
  {
   "cell_type": "markdown",
   "metadata": {},
   "source": [
    "# Sample Data Load"
   ]
  },
  {
   "cell_type": "code",
   "execution_count": 1,
   "metadata": {},
   "outputs": [],
   "source": [
    "import os\n",
    "import pandas as pd\n",
    "root_dir ='data/0421mode_변환'\n",
    "files = os.listdir(root_dir)"
   ]
  },
  {
   "cell_type": "code",
   "execution_count": 8,
   "metadata": {},
   "outputs": [
    {
     "data": {
      "text/plain": [
       "['ftp_p3_Converted.txt', 'ftp_p1p2_Converted.txt', 'hwy_Converted.txt']"
      ]
     },
     "execution_count": 8,
     "metadata": {},
     "output_type": "execute_result"
    }
   ],
   "source": [
    "files"
   ]
  },
  {
   "cell_type": "code",
   "execution_count": 4,
   "metadata": {
    "scrolled": true
   },
   "outputs": [
    {
     "data": {
      "text/html": [
       "<div>\n",
       "<style scoped>\n",
       "    .dataframe tbody tr th:only-of-type {\n",
       "        vertical-align: middle;\n",
       "    }\n",
       "\n",
       "    .dataframe tbody tr th {\n",
       "        vertical-align: top;\n",
       "    }\n",
       "\n",
       "    .dataframe thead th {\n",
       "        text-align: right;\n",
       "    }\n",
       "</style>\n",
       "<table border=\"1\" class=\"dataframe\">\n",
       "  <thead>\n",
       "    <tr style=\"text-align: right;\">\n",
       "      <th></th>\n",
       "      <th>time</th>\n",
       "      <th>Ambient</th>\n",
       "      <th>EGSPD</th>\n",
       "      <th>VSPD_ajou</th>\n",
       "      <th>TQI_ACOR</th>\n",
       "      <th>TQI</th>\n",
       "      <th>Coolant</th>\n",
       "      <th>VSPD2</th>\n",
       "      <th>Fan_curr</th>\n",
       "      <th>C_Rad_in</th>\n",
       "      <th>C_Head</th>\n",
       "      <th>C_H\\C_out</th>\n",
       "      <th>Target_angle</th>\n",
       "      <th>Current_angle</th>\n",
       "    </tr>\n",
       "  </thead>\n",
       "  <tbody>\n",
       "    <tr>\n",
       "      <th>0</th>\n",
       "      <td>0.040727</td>\n",
       "      <td>24.5</td>\n",
       "      <td>0.0</td>\n",
       "      <td>0</td>\n",
       "      <td>58.203125</td>\n",
       "      <td>0.0</td>\n",
       "      <td>24.75</td>\n",
       "      <td>0.0</td>\n",
       "      <td>-0.591950</td>\n",
       "      <td>25.124000</td>\n",
       "      <td>25.20000</td>\n",
       "      <td>25.162000</td>\n",
       "      <td>0.0</td>\n",
       "      <td>0.0</td>\n",
       "    </tr>\n",
       "    <tr>\n",
       "      <th>1</th>\n",
       "      <td>0.050572</td>\n",
       "      <td>24.5</td>\n",
       "      <td>0.0</td>\n",
       "      <td>0</td>\n",
       "      <td>58.203125</td>\n",
       "      <td>0.0</td>\n",
       "      <td>24.75</td>\n",
       "      <td>0.0</td>\n",
       "      <td>-0.591950</td>\n",
       "      <td>25.124000</td>\n",
       "      <td>25.20000</td>\n",
       "      <td>25.162000</td>\n",
       "      <td>0.0</td>\n",
       "      <td>0.0</td>\n",
       "    </tr>\n",
       "    <tr>\n",
       "      <th>2</th>\n",
       "      <td>0.060581</td>\n",
       "      <td>24.5</td>\n",
       "      <td>0.0</td>\n",
       "      <td>0</td>\n",
       "      <td>58.203125</td>\n",
       "      <td>0.0</td>\n",
       "      <td>24.75</td>\n",
       "      <td>0.0</td>\n",
       "      <td>-0.591950</td>\n",
       "      <td>25.124000</td>\n",
       "      <td>25.20000</td>\n",
       "      <td>25.162000</td>\n",
       "      <td>0.0</td>\n",
       "      <td>0.0</td>\n",
       "    </tr>\n",
       "    <tr>\n",
       "      <th>3</th>\n",
       "      <td>0.070663</td>\n",
       "      <td>24.5</td>\n",
       "      <td>0.0</td>\n",
       "      <td>0</td>\n",
       "      <td>58.203125</td>\n",
       "      <td>0.0</td>\n",
       "      <td>24.75</td>\n",
       "      <td>0.0</td>\n",
       "      <td>-0.593844</td>\n",
       "      <td>25.124000</td>\n",
       "      <td>25.20000</td>\n",
       "      <td>25.162000</td>\n",
       "      <td>0.0</td>\n",
       "      <td>0.0</td>\n",
       "    </tr>\n",
       "    <tr>\n",
       "      <th>4</th>\n",
       "      <td>0.080730</td>\n",
       "      <td>24.5</td>\n",
       "      <td>0.0</td>\n",
       "      <td>0</td>\n",
       "      <td>58.203125</td>\n",
       "      <td>0.0</td>\n",
       "      <td>24.75</td>\n",
       "      <td>0.0</td>\n",
       "      <td>-0.612541</td>\n",
       "      <td>25.124002</td>\n",
       "      <td>25.19998</td>\n",
       "      <td>25.161992</td>\n",
       "      <td>0.0</td>\n",
       "      <td>0.0</td>\n",
       "    </tr>\n",
       "  </tbody>\n",
       "</table>\n",
       "</div>"
      ],
      "text/plain": [
       "       time  Ambient  EGSPD  VSPD_ajou   TQI_ACOR  TQI  Coolant  VSPD2  \\\n",
       "0  0.040727     24.5    0.0          0  58.203125  0.0    24.75    0.0   \n",
       "1  0.050572     24.5    0.0          0  58.203125  0.0    24.75    0.0   \n",
       "2  0.060581     24.5    0.0          0  58.203125  0.0    24.75    0.0   \n",
       "3  0.070663     24.5    0.0          0  58.203125  0.0    24.75    0.0   \n",
       "4  0.080730     24.5    0.0          0  58.203125  0.0    24.75    0.0   \n",
       "\n",
       "   Fan_curr   C_Rad_in    C_Head  C_H\\C_out  Target_angle  Current_angle  \n",
       "0 -0.591950  25.124000  25.20000  25.162000           0.0            0.0  \n",
       "1 -0.591950  25.124000  25.20000  25.162000           0.0            0.0  \n",
       "2 -0.591950  25.124000  25.20000  25.162000           0.0            0.0  \n",
       "3 -0.593844  25.124000  25.20000  25.162000           0.0            0.0  \n",
       "4 -0.612541  25.124002  25.19998  25.161992           0.0            0.0  "
      ]
     },
     "execution_count": 4,
     "metadata": {},
     "output_type": "execute_result"
    }
   ],
   "source": [
    "use_cols = ['time','Ambient','EGSPD','VSPD_ajou','TQI_ACOR','TQI','Coolant','VSPD2','Fan_curr','C_Rad_in',\n",
    "           'C_Head','C_H\\C_out','Target_angle','Current_angle']\n",
    "p1p2_df = pd.read_csv(root_dir+'/ftp_p1p2_Converted.txt',sep='\\t',skiprows=[1],usecols=use_cols)\n",
    "p1p2_df.head()"
   ]
  },
  {
   "cell_type": "code",
   "execution_count": 6,
   "metadata": {},
   "outputs": [
    {
     "data": {
      "text/html": [
       "<div>\n",
       "<style scoped>\n",
       "    .dataframe tbody tr th:only-of-type {\n",
       "        vertical-align: middle;\n",
       "    }\n",
       "\n",
       "    .dataframe tbody tr th {\n",
       "        vertical-align: top;\n",
       "    }\n",
       "\n",
       "    .dataframe thead th {\n",
       "        text-align: right;\n",
       "    }\n",
       "</style>\n",
       "<table border=\"1\" class=\"dataframe\">\n",
       "  <thead>\n",
       "    <tr style=\"text-align: right;\">\n",
       "      <th></th>\n",
       "      <th>time</th>\n",
       "      <th>Ambient</th>\n",
       "      <th>EGSPD</th>\n",
       "      <th>VSPD_ajou</th>\n",
       "      <th>TQI_ACOR</th>\n",
       "      <th>TQI</th>\n",
       "      <th>Coolant</th>\n",
       "      <th>VSPD2</th>\n",
       "      <th>Fan_curr</th>\n",
       "      <th>C_Rad_in</th>\n",
       "      <th>C_Head</th>\n",
       "      <th>C_H\\C_out</th>\n",
       "      <th>Target_angle</th>\n",
       "      <th>Current_angle</th>\n",
       "    </tr>\n",
       "  </thead>\n",
       "  <tbody>\n",
       "    <tr>\n",
       "      <th>0</th>\n",
       "      <td>0.047340</td>\n",
       "      <td>28.5</td>\n",
       "      <td>0.0</td>\n",
       "      <td>0</td>\n",
       "      <td>50.78125</td>\n",
       "      <td>0.0</td>\n",
       "      <td>84.75</td>\n",
       "      <td>0.0</td>\n",
       "      <td>-0.660775</td>\n",
       "      <td>98.362</td>\n",
       "      <td>102.809</td>\n",
       "      <td>85.295</td>\n",
       "      <td>0.0</td>\n",
       "      <td>0.0</td>\n",
       "    </tr>\n",
       "    <tr>\n",
       "      <th>1</th>\n",
       "      <td>0.057112</td>\n",
       "      <td>28.5</td>\n",
       "      <td>0.0</td>\n",
       "      <td>0</td>\n",
       "      <td>50.78125</td>\n",
       "      <td>0.0</td>\n",
       "      <td>84.75</td>\n",
       "      <td>0.0</td>\n",
       "      <td>-0.660775</td>\n",
       "      <td>98.362</td>\n",
       "      <td>102.809</td>\n",
       "      <td>85.295</td>\n",
       "      <td>0.0</td>\n",
       "      <td>0.0</td>\n",
       "    </tr>\n",
       "    <tr>\n",
       "      <th>2</th>\n",
       "      <td>0.066428</td>\n",
       "      <td>28.5</td>\n",
       "      <td>0.0</td>\n",
       "      <td>0</td>\n",
       "      <td>50.78125</td>\n",
       "      <td>0.0</td>\n",
       "      <td>84.75</td>\n",
       "      <td>0.0</td>\n",
       "      <td>-0.656157</td>\n",
       "      <td>98.362</td>\n",
       "      <td>102.809</td>\n",
       "      <td>85.295</td>\n",
       "      <td>0.0</td>\n",
       "      <td>0.0</td>\n",
       "    </tr>\n",
       "    <tr>\n",
       "      <th>3</th>\n",
       "      <td>0.077380</td>\n",
       "      <td>28.5</td>\n",
       "      <td>0.0</td>\n",
       "      <td>0</td>\n",
       "      <td>50.78125</td>\n",
       "      <td>0.0</td>\n",
       "      <td>84.75</td>\n",
       "      <td>0.0</td>\n",
       "      <td>-0.641780</td>\n",
       "      <td>98.362</td>\n",
       "      <td>102.809</td>\n",
       "      <td>85.295</td>\n",
       "      <td>0.0</td>\n",
       "      <td>0.0</td>\n",
       "    </tr>\n",
       "    <tr>\n",
       "      <th>4</th>\n",
       "      <td>0.087161</td>\n",
       "      <td>28.5</td>\n",
       "      <td>0.0</td>\n",
       "      <td>0</td>\n",
       "      <td>50.78125</td>\n",
       "      <td>0.0</td>\n",
       "      <td>84.75</td>\n",
       "      <td>0.0</td>\n",
       "      <td>-0.633998</td>\n",
       "      <td>98.362</td>\n",
       "      <td>102.809</td>\n",
       "      <td>85.295</td>\n",
       "      <td>0.0</td>\n",
       "      <td>0.0</td>\n",
       "    </tr>\n",
       "  </tbody>\n",
       "</table>\n",
       "</div>"
      ],
      "text/plain": [
       "       time  Ambient  EGSPD  VSPD_ajou  TQI_ACOR  TQI  Coolant  VSPD2  \\\n",
       "0  0.047340     28.5    0.0          0  50.78125  0.0    84.75    0.0   \n",
       "1  0.057112     28.5    0.0          0  50.78125  0.0    84.75    0.0   \n",
       "2  0.066428     28.5    0.0          0  50.78125  0.0    84.75    0.0   \n",
       "3  0.077380     28.5    0.0          0  50.78125  0.0    84.75    0.0   \n",
       "4  0.087161     28.5    0.0          0  50.78125  0.0    84.75    0.0   \n",
       "\n",
       "   Fan_curr  C_Rad_in   C_Head  C_H\\C_out  Target_angle  Current_angle  \n",
       "0 -0.660775    98.362  102.809     85.295           0.0            0.0  \n",
       "1 -0.660775    98.362  102.809     85.295           0.0            0.0  \n",
       "2 -0.656157    98.362  102.809     85.295           0.0            0.0  \n",
       "3 -0.641780    98.362  102.809     85.295           0.0            0.0  \n",
       "4 -0.633998    98.362  102.809     85.295           0.0            0.0  "
      ]
     },
     "execution_count": 6,
     "metadata": {},
     "output_type": "execute_result"
    }
   ],
   "source": [
    "p3_df = pd.read_csv(root_dir+'/ftp_p3_Converted.txt',sep='\\t',skiprows=[1],usecols=use_cols)\n",
    "p3_df.head()"
   ]
  },
  {
   "cell_type": "code",
   "execution_count": 9,
   "metadata": {},
   "outputs": [
    {
     "data": {
      "text/html": [
       "<div>\n",
       "<style scoped>\n",
       "    .dataframe tbody tr th:only-of-type {\n",
       "        vertical-align: middle;\n",
       "    }\n",
       "\n",
       "    .dataframe tbody tr th {\n",
       "        vertical-align: top;\n",
       "    }\n",
       "\n",
       "    .dataframe thead th {\n",
       "        text-align: right;\n",
       "    }\n",
       "</style>\n",
       "<table border=\"1\" class=\"dataframe\">\n",
       "  <thead>\n",
       "    <tr style=\"text-align: right;\">\n",
       "      <th></th>\n",
       "      <th>time</th>\n",
       "      <th>Ambient</th>\n",
       "      <th>EGSPD</th>\n",
       "      <th>VSPD_ajou</th>\n",
       "      <th>TQI_ACOR</th>\n",
       "      <th>TQI</th>\n",
       "      <th>Coolant</th>\n",
       "      <th>VSPD2</th>\n",
       "      <th>Fan_curr</th>\n",
       "      <th>C_Rad_in</th>\n",
       "      <th>C_Head</th>\n",
       "      <th>C_H\\C_out</th>\n",
       "      <th>Target_angle</th>\n",
       "      <th>Current_angle</th>\n",
       "    </tr>\n",
       "  </thead>\n",
       "  <tbody>\n",
       "    <tr>\n",
       "      <th>0</th>\n",
       "      <td>0.042003</td>\n",
       "      <td>29.5</td>\n",
       "      <td>0.0</td>\n",
       "      <td>0</td>\n",
       "      <td>51.5625</td>\n",
       "      <td>0.0</td>\n",
       "      <td>75.75</td>\n",
       "      <td>0.0</td>\n",
       "      <td>-0.623325</td>\n",
       "      <td>85.813</td>\n",
       "      <td>90.126</td>\n",
       "      <td>72.474</td>\n",
       "      <td>0.0</td>\n",
       "      <td>0.0</td>\n",
       "    </tr>\n",
       "    <tr>\n",
       "      <th>1</th>\n",
       "      <td>0.052022</td>\n",
       "      <td>29.5</td>\n",
       "      <td>0.0</td>\n",
       "      <td>0</td>\n",
       "      <td>51.5625</td>\n",
       "      <td>0.0</td>\n",
       "      <td>75.75</td>\n",
       "      <td>0.0</td>\n",
       "      <td>-0.623325</td>\n",
       "      <td>85.813</td>\n",
       "      <td>90.126</td>\n",
       "      <td>72.474</td>\n",
       "      <td>0.0</td>\n",
       "      <td>0.0</td>\n",
       "    </tr>\n",
       "    <tr>\n",
       "      <th>2</th>\n",
       "      <td>0.062091</td>\n",
       "      <td>29.5</td>\n",
       "      <td>0.0</td>\n",
       "      <td>0</td>\n",
       "      <td>51.5625</td>\n",
       "      <td>0.0</td>\n",
       "      <td>75.75</td>\n",
       "      <td>0.0</td>\n",
       "      <td>-0.623325</td>\n",
       "      <td>85.813</td>\n",
       "      <td>90.126</td>\n",
       "      <td>72.474</td>\n",
       "      <td>0.0</td>\n",
       "      <td>0.0</td>\n",
       "    </tr>\n",
       "    <tr>\n",
       "      <th>3</th>\n",
       "      <td>0.072227</td>\n",
       "      <td>29.5</td>\n",
       "      <td>0.0</td>\n",
       "      <td>0</td>\n",
       "      <td>51.5625</td>\n",
       "      <td>0.0</td>\n",
       "      <td>75.75</td>\n",
       "      <td>0.0</td>\n",
       "      <td>-0.635830</td>\n",
       "      <td>85.813</td>\n",
       "      <td>90.126</td>\n",
       "      <td>72.474</td>\n",
       "      <td>0.0</td>\n",
       "      <td>0.0</td>\n",
       "    </tr>\n",
       "    <tr>\n",
       "      <th>4</th>\n",
       "      <td>0.082005</td>\n",
       "      <td>29.5</td>\n",
       "      <td>0.0</td>\n",
       "      <td>0</td>\n",
       "      <td>51.5625</td>\n",
       "      <td>0.0</td>\n",
       "      <td>75.75</td>\n",
       "      <td>0.0</td>\n",
       "      <td>-0.631047</td>\n",
       "      <td>85.813</td>\n",
       "      <td>90.126</td>\n",
       "      <td>72.474</td>\n",
       "      <td>0.0</td>\n",
       "      <td>0.0</td>\n",
       "    </tr>\n",
       "  </tbody>\n",
       "</table>\n",
       "</div>"
      ],
      "text/plain": [
       "       time  Ambient  EGSPD  VSPD_ajou  TQI_ACOR  TQI  Coolant  VSPD2  \\\n",
       "0  0.042003     29.5    0.0          0   51.5625  0.0    75.75    0.0   \n",
       "1  0.052022     29.5    0.0          0   51.5625  0.0    75.75    0.0   \n",
       "2  0.062091     29.5    0.0          0   51.5625  0.0    75.75    0.0   \n",
       "3  0.072227     29.5    0.0          0   51.5625  0.0    75.75    0.0   \n",
       "4  0.082005     29.5    0.0          0   51.5625  0.0    75.75    0.0   \n",
       "\n",
       "   Fan_curr  C_Rad_in  C_Head  C_H\\C_out  Target_angle  Current_angle  \n",
       "0 -0.623325    85.813  90.126     72.474           0.0            0.0  \n",
       "1 -0.623325    85.813  90.126     72.474           0.0            0.0  \n",
       "2 -0.623325    85.813  90.126     72.474           0.0            0.0  \n",
       "3 -0.635830    85.813  90.126     72.474           0.0            0.0  \n",
       "4 -0.631047    85.813  90.126     72.474           0.0            0.0  "
      ]
     },
     "execution_count": 9,
     "metadata": {},
     "output_type": "execute_result"
    }
   ],
   "source": [
    "hwy_df = pd.read_csv(root_dir+'/hwy_Converted.txt',sep='\\t',skiprows=[1],usecols=use_cols)\n",
    "hwy_df.head()"
   ]
  },
  {
   "cell_type": "markdown",
   "metadata": {},
   "source": [
    "# Arima를 통한 target 예측\n",
    "\n",
    "$\\partial t$는 일정하다고 가정"
   ]
  },
  {
   "cell_type": "markdown",
   "metadata": {},
   "source": [
    "## Target value 확인"
   ]
  },
  {
   "cell_type": "code",
   "execution_count": 15,
   "metadata": {},
   "outputs": [
    {
     "data": {
      "text/html": [
       "<div>\n",
       "<style scoped>\n",
       "    .dataframe tbody tr th:only-of-type {\n",
       "        vertical-align: middle;\n",
       "    }\n",
       "\n",
       "    .dataframe tbody tr th {\n",
       "        vertical-align: top;\n",
       "    }\n",
       "\n",
       "    .dataframe thead th {\n",
       "        text-align: right;\n",
       "    }\n",
       "</style>\n",
       "<table border=\"1\" class=\"dataframe\">\n",
       "  <thead>\n",
       "    <tr style=\"text-align: right;\">\n",
       "      <th></th>\n",
       "      <th>Coolant</th>\n",
       "      <th>C_Rad_in</th>\n",
       "      <th>C_Head</th>\n",
       "      <th>C_H\\C_out</th>\n",
       "    </tr>\n",
       "  </thead>\n",
       "  <tbody>\n",
       "    <tr>\n",
       "      <th>0</th>\n",
       "      <td>24.75</td>\n",
       "      <td>25.124000</td>\n",
       "      <td>25.20000</td>\n",
       "      <td>25.162000</td>\n",
       "    </tr>\n",
       "    <tr>\n",
       "      <th>1</th>\n",
       "      <td>24.75</td>\n",
       "      <td>25.124000</td>\n",
       "      <td>25.20000</td>\n",
       "      <td>25.162000</td>\n",
       "    </tr>\n",
       "    <tr>\n",
       "      <th>2</th>\n",
       "      <td>24.75</td>\n",
       "      <td>25.124000</td>\n",
       "      <td>25.20000</td>\n",
       "      <td>25.162000</td>\n",
       "    </tr>\n",
       "    <tr>\n",
       "      <th>3</th>\n",
       "      <td>24.75</td>\n",
       "      <td>25.124000</td>\n",
       "      <td>25.20000</td>\n",
       "      <td>25.162000</td>\n",
       "    </tr>\n",
       "    <tr>\n",
       "      <th>4</th>\n",
       "      <td>24.75</td>\n",
       "      <td>25.124002</td>\n",
       "      <td>25.19998</td>\n",
       "      <td>25.161992</td>\n",
       "    </tr>\n",
       "  </tbody>\n",
       "</table>\n",
       "</div>"
      ],
      "text/plain": [
       "   Coolant   C_Rad_in    C_Head  C_H\\C_out\n",
       "0    24.75  25.124000  25.20000  25.162000\n",
       "1    24.75  25.124000  25.20000  25.162000\n",
       "2    24.75  25.124000  25.20000  25.162000\n",
       "3    24.75  25.124000  25.20000  25.162000\n",
       "4    24.75  25.124002  25.19998  25.161992"
      ]
     },
     "execution_count": 15,
     "metadata": {},
     "output_type": "execute_result"
    }
   ],
   "source": [
    "target_cols = ['Coolant','C_Rad_in','C_Head','C_H\\C_out']\n",
    "df = p1p2_df.append([p3_df,hwy_df],ignore_index=True)\n",
    "target_df = df[target_cols]\n",
    "target_df.head()"
   ]
  },
  {
   "cell_type": "code",
   "execution_count": 30,
   "metadata": {
    "scrolled": false
   },
   "outputs": [
    {
     "data": {
      "image/png": "[encoded data removed]",
      "text/plain": [
       "<Figure size 1440x720 with 1 Axes>"
      ]
     },
     "metadata": {
      "needs_background": "light"
     },
     "output_type": "display_data"
    }
   ],
   "source": [
    "import matplotlib.pyplot as plt\n",
    "target_df.plot(figsize=(20,10))\n",
    "plt.show()"
   ]
  },
  {
   "cell_type": "markdown",
   "metadata": {},
   "source": [
    "## auto Arima"
   ]
  },
  {
   "cell_type": "code",
   "execution_count": 43,
   "metadata": {},
   "outputs": [],
   "source": [
    "from statsmodels.graphics.tsaplots import plot_acf, plot_pacf\n",
    "from statsmodels.tsa.arima_model import ARIMA\n",
    "from sklearn.metrics import mean_squared_error\n",
    "import warnings\n",
    "warnings.filterwarnings(\"ignore\")"
   ]
  },
  {
   "cell_type": "code",
   "execution_count": 36,
   "metadata": {
    "scrolled": false
   },
   "outputs": [
    {
     "data": {
      "image/png": "[encoded data removed]",
      "text/plain": [
       "<Figure size 432x288 with 1 Axes>"
      ]
     },
     "metadata": {
      "needs_background": "light"
     },
     "output_type": "display_data"
    },
    {
     "data": {
      "image/png": "[encoded data removed]",
      "text/plain": [
       "<Figure size 432x288 with 1 Axes>"
      ]
     },
     "metadata": {
      "needs_background": "light"
     },
     "output_type": "display_data"
    }
   ],
   "source": [
    "plot_acf(target_df[target_cols[0]]) ## 자기상관함수\n",
    "plot_pacf(target_df[target_cols[0]]) ## 부분 자기상관함수\n",
    "plt.show()"
   ]
  },
  {
   "cell_type": "code",
   "execution_count": 40,
   "metadata": {},
   "outputs": [],
   "source": [
    "def evaluate_arima_model(X,arima_order):\n",
    "    train_size = int(len(X)*0.66)\n",
    "    train,test = X[0:train_size],X[train_size:]\n",
    "    history = [x for x in train]\n",
    "    \n",
    "    predictions = []\n",
    "    for t in range(len(test)):\n",
    "        model = ARIMA(history,order=arima_order)\n",
    "        model_fit = model.fit(disp=0)\n",
    "        y_pred = model_fit.forcast()[0]\n",
    "        predictions.append(y_pred)\n",
    "        history.append(test[t])\n",
    "    \n",
    "    error = mean_squared_error(test,predictions)\n",
    "    return error"
   ]
  },
  {
   "cell_type": "code",
   "execution_count": 42,
   "metadata": {},
   "outputs": [],
   "source": [
    "def evaluate_models(dataset, p_values, d_values, q_values):\n",
    "    dataset = dataset.astype('float32')\n",
    "    best_score, best_cfg = float(\"inf\"), None\n",
    "    for p in p_values:\n",
    "        for d in d_values:\n",
    "            for q in q_values:\n",
    "                order = (p,d,q)\n",
    "                try:\n",
    "                    mse = evaluate_arima_model(dataset, order)\n",
    "                    if mse < best_score:\n",
    "                        best_score, best_cfg = mse, order\n",
    "                    print('ARIMA%s MSE=%.3f' % (order,mse))\n",
    "                except:\n",
    "                    continue\n",
    "    print('Best ARIMA%s MSE=%.3f' % (best_cfg, best_score))"
   ]
  },
  {
   "cell_type": "code",
   "execution_count": 45,
   "metadata": {},
   "outputs": [
    {
     "name": "stdout",
     "output_type": "stream",
     "text": [
      "Best ARIMANone MSE=inf\n"
     ]
    }
   ],
   "source": [
    "## 자기상관도가 없어서 ARIMA로는 분석불가\n",
    "p_values = [0, 1, 2, 4, 6, 8, 10]\n",
    "d_values = range(0, 3)\n",
    "q_values = range(0, 3)\n",
    "warnings.filterwarnings(\"ignore\")\n",
    "evaluate_models(target_df[target_cols[0]].values, p_values, d_values, q_values)"
   ]
  },
  {
   "cell_type": "code",
   "execution_count": null,
   "metadata": {},
   "outputs": [],
   "source": []
  }
 ],
 "metadata": {
  "kernelspec": {
   "display_name": "Python 3",
   "language": "python",
   "name": "python3"
  }
 },
 "nbformat": 4,
 "nbformat_minor": 4
}
